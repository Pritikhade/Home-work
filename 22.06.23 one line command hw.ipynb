{
 "cells": [
  {
   "cell_type": "code",
   "execution_count": 2,
   "id": "abe08fa5",
   "metadata": {},
   "outputs": [
    {
     "data": {
      "text/plain": [
       "4"
      ]
     },
     "execution_count": 2,
     "metadata": {},
     "output_type": "execute_result"
    }
   ],
   "source": [
    "# one line command\n",
    "add=lambda a,b : a+b\n",
    "add(2,2)"
   ]
  },
  {
   "cell_type": "code",
   "execution_count": 9,
   "id": "1cda9ab4",
   "metadata": {},
   "outputs": [
    {
     "data": {
      "text/plain": [
       "[1, 5, 18]"
      ]
     },
     "execution_count": 9,
     "metadata": {},
     "output_type": "execute_result"
    }
   ],
   "source": [
    "l=[1,56,5,25,18]    #<20\n",
    "newl=[]\n",
    "for i in l:\n",
    "    if i<20:\n",
    "        newl.append(i)\n",
    "newl        "
   ]
  },
  {
   "cell_type": "code",
   "execution_count": 12,
   "id": "73e9b0c8",
   "metadata": {},
   "outputs": [
    {
     "data": {
      "text/plain": [
       "[1, 5, 18]"
      ]
     },
     "execution_count": 12,
     "metadata": {},
     "output_type": "execute_result"
    }
   ],
   "source": [
    "list(filter(lambda x:x<20,l))"
   ]
  },
  {
   "cell_type": "code",
   "execution_count": 13,
   "id": "72892323",
   "metadata": {},
   "outputs": [
    {
     "data": {
      "text/plain": [
       "[1, 56, 5, 25, 18]"
      ]
     },
     "execution_count": 13,
     "metadata": {},
     "output_type": "execute_result"
    }
   ],
   "source": [
    "list(filter(lambda x:x!=0,l))"
   ]
  },
  {
   "cell_type": "code",
   "execution_count": 17,
   "id": "23715545",
   "metadata": {},
   "outputs": [
    {
     "data": {
      "text/plain": [
       "[2, 112, 10, 50, 36]"
      ]
     },
     "execution_count": 17,
     "metadata": {},
     "output_type": "execute_result"
    }
   ],
   "source": [
    "  l=[1,56,5,25,18]    \n",
    "newl=[]\n",
    "for i in l:\n",
    "        newl.append(i*2)\n",
    "newl                      #Arithmatic"
   ]
  },
  {
   "cell_type": "code",
   "execution_count": 16,
   "id": "e52b6a6f",
   "metadata": {},
   "outputs": [
    {
     "data": {
      "text/plain": [
       "[2, 112, 10, 50, 36]"
      ]
     },
     "execution_count": 16,
     "metadata": {},
     "output_type": "execute_result"
    }
   ],
   "source": [
    "list(map(lambda x:x*2,l))"
   ]
  },
  {
   "cell_type": "code",
   "execution_count": 19,
   "id": "98b7a106",
   "metadata": {},
   "outputs": [
    {
     "data": {
      "text/plain": [
       "'my name is Priti, my age is 21'"
      ]
     },
     "execution_count": 19,
     "metadata": {},
     "output_type": "execute_result"
    }
   ],
   "source": [
    "\"my name is {}, my age is {}\".format(\"Priti\",21)"
   ]
  },
  {
   "cell_type": "code",
   "execution_count": null,
   "id": "609ffa6c",
   "metadata": {},
   "outputs": [],
   "source": []
  }
 ],
 "metadata": {
  "kernelspec": {
   "display_name": "Python 3 (ipykernel)",
   "language": "python",
   "name": "python3"
  },
  "language_info": {
   "codemirror_mode": {
    "name": "ipython",
    "version": 3
   },
   "file_extension": ".py",
   "mimetype": "text/x-python",
   "name": "python",
   "nbconvert_exporter": "python",
   "pygments_lexer": "ipython3",
   "version": "3.9.13"
  }
 },
 "nbformat": 4,
 "nbformat_minor": 5
}
