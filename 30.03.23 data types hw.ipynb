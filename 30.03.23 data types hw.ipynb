{
 "cells": [
  {
   "cell_type": "markdown",
   "id": "07506702",
   "metadata": {},
   "source": [
    "# Variance (To increase):\n",
    "1. Monthly interest on amount\n",
    "2. Bike average\n",
    "3. Monthly income\n",
    "4. Sales\n",
    "5. Milk in dairy"
   ]
  },
  {
   "cell_type": "markdown",
   "id": "de279afd",
   "metadata": {},
   "source": [
    "# Variance (To decrease):\n",
    "1. Defectives in fruit basket\n",
    "2. Mistakes in exam\n",
    "3. Platelets\n",
    "4. Damaged ball bearing skates\n",
    "5. Traffic in city"
   ]
  },
  {
   "cell_type": "markdown",
   "id": "f83ae86d",
   "metadata": {},
   "source": [
    "# Conditional probability examples:\n",
    "Box contain five green ball two white ball and six yellow wall. find the probability that getting white ball."
   ]
  },
  {
   "cell_type": "code",
   "execution_count": null,
   "id": "21bd353e",
   "metadata": {},
   "outputs": [],
   "source": []
  }
 ],
 "metadata": {
  "kernelspec": {
   "display_name": "Python 3 (ipykernel)",
   "language": "python",
   "name": "python3"
  },
  "language_info": {
   "codemirror_mode": {
    "name": "ipython",
    "version": 3
   },
   "file_extension": ".py",
   "mimetype": "text/x-python",
   "name": "python",
   "nbconvert_exporter": "python",
   "pygments_lexer": "ipython3",
   "version": "3.9.13"
  }
 },
 "nbformat": 4,
 "nbformat_minor": 5
}
