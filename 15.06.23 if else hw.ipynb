{
 "cells": [
  {
   "cell_type": "code",
   "execution_count": 3,
   "id": "ce4e4e5b",
   "metadata": {},
   "outputs": [
    {
     "name": "stdout",
     "output_type": "stream",
     "text": [
      "C grade\n"
     ]
    }
   ],
   "source": [
    "p=50\n",
    "if p>75:\n",
    "    print (\"O grade\")\n",
    "elif p>60 and p<=75:\n",
    "    print(\"A grade\")\n",
    "elif p>50 and p<=60:\n",
    "    print(\"B grade\")\n",
    "elif p>35 and p<=50:\n",
    "    print(\"C grade\")    \n",
    "else :\n",
    "    print(\"fail\")"
   ]
  },
  {
   "cell_type": "code",
   "execution_count": 2,
   "id": "994865b3",
   "metadata": {},
   "outputs": [
    {
     "name": "stdout",
     "output_type": "stream",
     "text": [
      "divisible by 2, and 3\n"
     ]
    }
   ],
   "source": [
    "n=546\n",
    "if n%2==0 and n%3!=0:\n",
    "    print(\"divisible by 2, not 3\")\n",
    "elif n%2==0 and n%3==0:\n",
    "    print(\"divisible by 2, and 3\")\n",
    "elif n%3==0 and n%2!=0:\n",
    "    print(\"divisible by 3, not 2\")\n",
    "else:\n",
    "    print(\"not divisible by 2, and 3\")"
   ]
  },
  {
   "cell_type": "code",
   "execution_count": null,
   "id": "8e9d6d27",
   "metadata": {},
   "outputs": [],
   "source": []
  }
 ],
 "metadata": {
  "kernelspec": {
   "display_name": "Python 3 (ipykernel)",
   "language": "python",
   "name": "python3"
  },
  "language_info": {
   "codemirror_mode": {
    "name": "ipython",
    "version": 3
   },
   "file_extension": ".py",
   "mimetype": "text/x-python",
   "name": "python",
   "nbconvert_exporter": "python",
   "pygments_lexer": "ipython3",
   "version": "3.9.13"
  }
 },
 "nbformat": 4,
 "nbformat_minor": 5
}
