{
 "cells": [
  {
   "cell_type": "markdown",
   "id": "9f0fa956",
   "metadata": {},
   "source": [
    "# Discrete data type:\n",
    "1. Number of children's in a family\n",
    "2. Successful people in society\n",
    "3. Number of sales made in a week\n",
    "4. Number of accidents in city\n",
    "5. Daily visitors to general hospital"
   ]
  },
  {
   "cell_type": "markdown",
   "id": "93ace078",
   "metadata": {},
   "source": [
    "\n",
    "# Continuous data type:\n",
    "1. Stock prices\n",
    "2. Height of student\n",
    "3. Temperature\n",
    "4. Amount of rain in city\n",
    "5. Weight of student"
   ]
  },
  {
   "cell_type": "markdown",
   "id": "e208b80f",
   "metadata": {},
   "source": [
    "# Nominal data type:\n",
    "1. Gender\n",
    "2. Religion\n",
    "3. Eye colour\n",
    "4. Marital status\n",
    "5. Tossing coin"
   ]
  },
  {
   "cell_type": "markdown",
   "id": "dbecd7f6",
   "metadata": {},
   "source": [
    "# Ordinal data type:\n",
    "1. Grades A,B,C\n",
    "2. Economic status low high medium\n",
    "3. Competition prices\n",
    "4. Agreement levels\n",
    "5. Plastic variety"
   ]
  },
  {
   "cell_type": "markdown",
   "id": "84043c09",
   "metadata": {},
   "source": [
    "# Population sample examples:\n",
    "1. Testing of sea water\n",
    "2. Testing of soil sample\n",
    "3. Mobile testing\n",
    "4. Weather forecast\n",
    "5. Book pages containing pictures\n",
    "6. College containing staff\n",
    "7. Milk sample for fat\n",
    "8. Quality testing\n",
    "9. Cancer cancer patient in government hospital\n",
    "10. Rice grains in bag"
   ]
  },
  {
   "cell_type": "markdown",
   "id": "21598b85",
   "metadata": {},
   "source": []
  },
  {
   "cell_type": "code",
   "execution_count": null,
   "id": "76807ba2",
   "metadata": {},
   "outputs": [],
   "source": []
  }
 ],
 "metadata": {
  "kernelspec": {
   "display_name": "Python 3 (ipykernel)",
   "language": "python",
   "name": "python3"
  },
  "language_info": {
   "codemirror_mode": {
    "name": "ipython",
    "version": 3
   },
   "file_extension": ".py",
   "mimetype": "text/x-python",
   "name": "python",
   "nbconvert_exporter": "python",
   "pygments_lexer": "ipython3",
   "version": "3.9.13"
  }
 },
 "nbformat": 4,
 "nbformat_minor": 5
}
