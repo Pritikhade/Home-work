{
 "cells": [
  {
   "cell_type": "markdown",
   "id": "4dd4784f",
   "metadata": {},
   "source": [
    "# Probability examples:\n",
    "1. Tossing a coin\n",
    "2. Rolling die\n",
    "3. Lottery tickets\n",
    "4. Weather forecast\n",
    "5. Playing cards"
   ]
  },
  {
   "cell_type": "code",
   "execution_count": null,
   "id": "2357a7a5",
   "metadata": {},
   "outputs": [],
   "source": []
  }
 ],
 "metadata": {
  "kernelspec": {
   "display_name": "Python 3 (ipykernel)",
   "language": "python",
   "name": "python3"
  },
  "language_info": {
   "codemirror_mode": {
    "name": "ipython",
    "version": 3
   },
   "file_extension": ".py",
   "mimetype": "text/x-python",
   "name": "python",
   "nbconvert_exporter": "python",
   "pygments_lexer": "ipython3",
   "version": "3.9.13"
  }
 },
 "nbformat": 4,
 "nbformat_minor": 5
}
