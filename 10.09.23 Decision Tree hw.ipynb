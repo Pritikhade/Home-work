{
 "cells": [
  {
   "cell_type": "markdown",
   "id": "278a2989",
   "metadata": {},
   "source": [
    "# Advantages of Decision Trees:"
   ]
  },
  {
   "cell_type": "markdown",
   "id": "45d36285",
   "metadata": {},
   "source": [
    " 1) Decision trees are versatile and can be applied to both classification and regression tasks.\n",
    " 2) Decision trees can handle missing values by using surrogate splits.\n",
    " 3) Decision trees are easy to understand and interpret.\n",
    " 4) Decision trees provide a measure of feature importance, allowing you to identify which features are most influential in      making decisions."
   ]
  },
  {
   "cell_type": "markdown",
   "id": "d66d20fd",
   "metadata": {},
   "source": [
    "# Disadvantages of Decision Trees:"
   ]
  },
  {
   "cell_type": "markdown",
   "id": "ea69705e",
   "metadata": {},
   "source": [
    "1) Overfitting occurs when the tree captures noise in the training data rather than the underlying patterns.\n",
    "2) Instability: Small changes in the data can lead to significant changes in the structure of the tree, resulting in instability.\n",
    "3) Training data 100% accuracy.    "
   ]
  },
  {
   "cell_type": "markdown",
   "id": "4667ced3",
   "metadata": {},
   "source": [
    "# Advantages of Random Forest:"
   ]
  },
  {
   "cell_type": "markdown",
   "id": "5efbade4",
   "metadata": {},
   "source": [
    "1) Random Forest generally produces highly accurate predictions for both classification and regression tasks.\n",
    "2) Random Forest is less prone to overfitting, as it combines the output of multiple trees with different biases. \n",
    "3) Random Forest can handle missing values in the data."
   ]
  },
  {
   "cell_type": "markdown",
   "id": "bd4126e9",
   "metadata": {},
   "source": [
    "# Disadvantages of Random Forest:"
   ]
  },
  {
   "cell_type": "code",
   "execution_count": null,
   "id": "d6e84a55",
   "metadata": {},
   "outputs": [],
   "source": [
    "1) Random Forest models can be challenging to interpret, especially when they involve a large number of trees. \n",
    "2) Making predictions with Random Forest models can be slower."
   ]
  }
 ],
 "metadata": {
  "kernelspec": {
   "display_name": "Python 3 (ipykernel)",
   "language": "python",
   "name": "python3"
  },
  "language_info": {
   "codemirror_mode": {
    "name": "ipython",
    "version": 3
   },
   "file_extension": ".py",
   "mimetype": "text/x-python",
   "name": "python",
   "nbconvert_exporter": "python",
   "pygments_lexer": "ipython3",
   "version": "3.9.13"
  }
 },
 "nbformat": 4,
 "nbformat_minor": 5
}
